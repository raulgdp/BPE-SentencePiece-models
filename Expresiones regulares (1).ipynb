{
 "cells": [
  {
   "cell_type": "markdown",
   "id": "89d64477",
   "metadata": {},
   "source": [
    "# re — Regular expression operations\n"
   ]
  },
  {
   "cell_type": "code",
   "execution_count": 1,
   "id": "d99ba998",
   "metadata": {},
   "outputs": [
    {
     "data": {
      "text/markdown": [
       "[Librería re de Python](https://docs.python.org/3/library/re.html)"
      ],
      "text/plain": [
       "<IPython.core.display.Markdown object>"
      ]
     },
     "metadata": {},
     "output_type": "display_data"
    }
   ],
   "source": [
    "from IPython.display import display, Markdown\n",
    "display(Markdown(\"[Librería re de Python](https://docs.python.org/3/library/re.html)\"))"
   ]
  },
  {
   "cell_type": "code",
   "execution_count": 2,
   "id": "b5b04142",
   "metadata": {},
   "outputs": [],
   "source": [
    "import re"
   ]
  },
  {
   "cell_type": "markdown",
   "id": "55105b76",
   "metadata": {},
   "source": [
    "# Los métodos compile y match\n"
   ]
  },
  {
   "cell_type": "markdown",
   "id": "b486c5cf",
   "metadata": {},
   "source": [
    "Evita la repetición de código y se usa para crear un programa de regex y permite el uso de métodos integrados. El método match chequea si un patrón coincide con una cadena o secuencia."
   ]
  },
  {
   "cell_type": "code",
   "execution_count": 3,
   "id": "55f1c363",
   "metadata": {},
   "outputs": [],
   "source": [
    "cadena='Python'\n",
    "patron= \"Cali\"\n",
    "prog=re.compile(patron)\n",
    "prog.match(cadena)"
   ]
  },
  {
   "cell_type": "code",
   "execution_count": 4,
   "id": "843b3fbb",
   "metadata": {
    "scrolled": true
   },
   "outputs": [
    {
     "name": "stdout",
     "output_type": "stream",
     "text": [
      "No coinciden\n"
     ]
    }
   ],
   "source": [
    "cadena1='cali'\n",
    "prog=re.compile(patron)\n",
    "if prog.match(cadena1) !=None:\n",
    "    print(\"coinciden\")\n",
    "else:\n",
    "    print(\"No coinciden\")"
   ]
  },
  {
   "cell_type": "markdown",
   "id": "9951e806",
   "metadata": {},
   "source": [
    "# Matching posicional"
   ]
  },
  {
   "cell_type": "markdown",
   "id": "7ae6632e",
   "metadata": {},
   "source": [
    "Adicionando parámetros podemos usar  el método match para posicionar una  cadena. La primera posición inicia en 0. El span(x,y) devuelve una tupla que contiene las posiciones (inicio, final) del match."
   ]
  },
  {
   "cell_type": "code",
   "execution_count": 5,
   "id": "9816f80d",
   "metadata": {
    "scrolled": true
   },
   "outputs": [
    {
     "data": {
      "text/plain": [
       "<re.Match object; span=(1, 2), match='y'>"
      ]
     },
     "execution_count": 5,
     "metadata": {},
     "output_type": "execute_result"
    }
   ],
   "source": [
    "prog=re.compile('y')\n",
    "prog.match('Python',pos=1)"
   ]
  },
  {
   "cell_type": "code",
   "execution_count": 6,
   "id": "3f7ff9e7",
   "metadata": {},
   "outputs": [
    {
     "data": {
      "text/plain": [
       "<re.Match object; span=(4, 8), match='thon'>"
      ]
     },
     "execution_count": 6,
     "metadata": {},
     "output_type": "execute_result"
    }
   ],
   "source": [
    "prog=re.compile('thon')\n",
    "prog.match('xxPythonicxyy',pos=4)"
   ]
  },
  {
   "cell_type": "markdown",
   "id": "9a9c0603",
   "metadata": {},
   "source": [
    "#  \\w hace match con cualquier letra, dígito o underscore(subrayado)"
   ]
  },
  {
   "cell_type": "code",
   "execution_count": 7,
   "id": "4cd41c7a",
   "metadata": {},
   "outputs": [
    {
     "name": "stdout",
     "output_type": "stream",
     "text": [
      "<re.Match object; span=(0, 3), match='cam'>\n",
      "<re.Match object; span=(2, 5), match='c_m'>\n",
      "<re.Match object; span=(2, 5), match='c2m'>\n"
     ]
    }
   ],
   "source": [
    "prog=re.compile(r'c\\wm')\n",
    "print(prog.search('camarero'))\n",
    "print(prog.search('pac_man'))\n",
    "print(prog.search('pac2man'))"
   ]
  },
  {
   "cell_type": "markdown",
   "id": "85a98599",
   "metadata": {},
   "source": [
    "# \\W hace match con cualquier símbolo que no cubre \\w,  hay otros símbolos además de letras, dígitos y el guión bajo."
   ]
  },
  {
   "cell_type": "code",
   "execution_count": 8,
   "id": "88c24998",
   "metadata": {},
   "outputs": [
    {
     "name": "stdout",
     "output_type": "stream",
     "text": [
      "<re.Match object; span=(0, 4), match='9/11'>\n",
      "<re.Match object; span=(0, 4), match='9-11'>\n",
      "<re.Match object; span=(1, 5), match='9/11'>\n"
     ]
    }
   ],
   "source": [
    "prog=re.compile(r'9\\W11')\n",
    "print(prog.search('9/11 fue un terrible día'))\n",
    "print(prog.search('9-11 fue un terrible día'))\n",
    "print(prog.search('09/11  y 9.11 fue un terrible día'))"
   ]
  },
  {
   "cell_type": "markdown",
   "id": "7623222c",
   "metadata": {},
   "source": [
    "# Dot (.) hace match con un sólo caracter"
   ]
  },
  {
   "cell_type": "code",
   "execution_count": 9,
   "id": "521047b8",
   "metadata": {},
   "outputs": [
    {
     "data": {
      "image/png": "[encoded data removed]",
      "text/plain": [
       "<IPython.core.display.Image object>"
      ]
     },
     "execution_count": 9,
     "metadata": {},
     "output_type": "execute_result"
    }
   ],
   "source": [
    "from IPython.display import Image\n",
    "Image(filename='begin..png')"
   ]
  },
  {
   "cell_type": "code",
   "execution_count": 10,
   "id": "1080d45c",
   "metadata": {},
   "outputs": [
    {
     "name": "stdout",
     "output_type": "stream",
     "text": [
      "<re.Match object; span=(0, 4), match='begi'>\n",
      "<re.Match object; span=(0, 4), match='begu'>\n"
     ]
    }
   ],
   "source": [
    "prog=re.compile(r'beg.')\n",
    "print(prog.search('begin'))\n",
    "print(prog.search('begun'))"
   ]
  },
  {
   "cell_type": "markdown",
   "id": "032324cb",
   "metadata": {},
   "source": [
    "# \\d hace match con los dígitos del 0-9"
   ]
  },
  {
   "cell_type": "code",
   "execution_count": 11,
   "id": "808ef9df",
   "metadata": {},
   "outputs": [
    {
     "name": "stdout",
     "output_type": "stream",
     "text": [
      "None\n",
      "<re.Match object; span=(3, 19), match='score fue de 239'>\n"
     ]
    }
   ],
   "source": [
    "prog=re.compile(r\"score fue de \\d\\d\\d\")\n",
    "print(prog.search(\"mi score fue de 27\"))\n",
    "print(prog.search(\"mi score fue de 239\"))\n"
   ]
  },
  {
   "cell_type": "markdown",
   "id": "aafca0a1",
   "metadata": {},
   "source": [
    "# El signo de intercalación ^ hace match con patrones que comienzan una cadena y el signo $ hace match con el patrón al final del string."
   ]
  },
  {
   "cell_type": "code",
   "execution_count": 12,
   "id": "6e00e4d1",
   "metadata": {},
   "outputs": [
    {
     "name": "stdout",
     "output_type": "stream",
     "text": [
      "None\n",
      "<re.Match object; span=(0, 5), match='India'>\n"
     ]
    }
   ],
   "source": [
    "prog=re.compile(r'^India|Rusia$')\n",
    "print(prog.search('La India son excelentes Colombia'))\n",
    "print(prog.search('India es un país más caliente que Rusia'))"
   ]
  },
  {
   "cell_type": "markdown",
   "id": "aeba71d1",
   "metadata": {},
   "source": [
    "# Expresiones regulares en regex"
   ]
  },
  {
   "cell_type": "markdown",
   "id": "b59d2581",
   "metadata": {},
   "source": [
    "# Match de 0 o más repeticiones de una expresión regular. Este match se realiza a nivel de subcadenas."
   ]
  },
  {
   "cell_type": "code",
   "execution_count": 13,
   "id": "d2161c42",
   "metadata": {},
   "outputs": [],
   "source": [
    "def print_match(s):\n",
    "        if prog.search(s)==None:\n",
    "            print(\"No match\")\n",
    "        else:\n",
    "            print(s)"
   ]
  },
  {
   "cell_type": "code",
   "execution_count": 14,
   "id": "05764c60",
   "metadata": {},
   "outputs": [
    {
     "name": "stdout",
     "output_type": "stream",
     "text": [
      "a\n",
      "ab\n",
      "bbab\n",
      "No match\n"
     ]
    }
   ],
   "source": [
    "prog=re.compile(r'ab*')\n",
    "print_match(\"a\")\n",
    "print_match(\"ab\")\n",
    "print_match(\"bbab\")\n",
    "print_match(\"b\")"
   ]
  },
  {
   "cell_type": "code",
   "execution_count": 15,
   "id": "ab969e29",
   "metadata": {},
   "outputs": [
    {
     "name": "stdout",
     "output_type": "stream",
     "text": [
      "baaaa\n",
      "baa\n",
      "bbab\n",
      "No match\n"
     ]
    }
   ],
   "source": [
    "prog1=re.compile(r'baa+')\n",
    "print_match(\"baaaa\")\n",
    "print_match(\"baa\")\n",
    "print_match(\"bbab\")\n",
    "print_match(\"b\")"
   ]
  },
  {
   "cell_type": "markdown",
   "id": "4496489c",
   "metadata": {},
   "source": [
    "# Control de repeticiones  "
   ]
  },
  {
   "cell_type": "markdown",
   "id": "e16dcd1a",
   "metadata": {},
   "source": [
    "{m} especifica exactamente m copia de RE para el match. "
   ]
  },
  {
   "cell_type": "code",
   "execution_count": 16,
   "id": "61f9b5fb",
   "metadata": {},
   "outputs": [
    {
     "name": "stdout",
     "output_type": "stream",
     "text": [
      "ccAAAd\n"
     ]
    }
   ],
   "source": [
    "prog=re.compile(r'A{3}')\n",
    "print_match('ccAAAd')\n"
   ]
  },
  {
   "cell_type": "markdown",
   "id": "8167c21a",
   "metadata": {},
   "source": [
    "# Rangos de caracteres"
   ]
  },
  {
   "cell_type": "markdown",
   "id": "8fd19978",
   "metadata": {},
   "source": [
    " Por ejemplo, a-z o A-Z coincidirá con cualquier cosa entre a y z o A y Z, es decir,  todo el alfabeto inglés.\n",
    "Supongamos que queremos extraer una identificación de correo electrónico. Ponemos una expresión regular de coincidencia de patrones con caracteres alfabéticos + @ + .com. Pero no puede capturar una identificación de correo electrónico con algunos dígitos numéricos. "
   ]
  },
  {
   "cell_type": "code",
   "execution_count": 17,
   "id": "d4e3a9e5",
   "metadata": {},
   "outputs": [
    {
     "name": "stdout",
     "output_type": "stream",
     "text": [
      "No match\n",
      "Mi correo es raulgdp@xyz.com\n"
     ]
    }
   ],
   "source": [
    "prog=re.compile('[a-zA-Z]+@+[a-zA-Z]+\\.com')\n",
    "print_match(\"Mi correo es raulgdp123@xyz.com\")\n",
    "print_match(\"Mi correo es raulgdp@xyz.com\")\n"
   ]
  },
  {
   "cell_type": "code",
   "execution_count": 18,
   "id": "f036d4d1",
   "metadata": {},
   "outputs": [
    {
     "name": "stdout",
     "output_type": "stream",
     "text": [
      "Mi correo es raulgdp123@xyz.com\n",
      "Mi correo es raulgdp@xyz.com\n",
      "No match\n"
     ]
    }
   ],
   "source": [
    "prog=re.compile('[a-zA-Z0-9]+@+[a-zA-Z]+\\.com')\n",
    "print_match(\"Mi correo es raulgdp123@xyz.com\")\n",
    "print_match(\"Mi correo es raulgdp@xyz.com\")\n",
    "print_match(\"Mi correo es raulgdp@xyz.org\")\n"
   ]
  },
  {
   "cell_type": "code",
   "execution_count": 19,
   "id": "ac282073",
   "metadata": {},
   "outputs": [
    {
     "name": "stdout",
     "output_type": "stream",
     "text": [
      "El F.N.C es de Colombia y de U.S.A\n",
      "No match\n"
     ]
    }
   ],
   "source": [
    "prog=re.compile('([A-Z]\\.)+')\n",
    "print_match(\"El F.N.C es de Colombia y de U.S.A\")\n",
    "print_match(\"Colombia es un país de ciudades\")"
   ]
  },
  {
   "cell_type": "code",
   "execution_count": 20,
   "id": "3415182c",
   "metadata": {},
   "outputs": [
    {
     "name": "stdout",
     "output_type": "stream",
     "text": [
      "Este es un ejercicio de #nlp23 y se usa #python\n",
      "No match\n"
     ]
    }
   ],
   "source": [
    "prog = re.compile(r\"#\\w+\")\n",
    "print_match('Este es un ejercicio de #nlp23 y se usa #python')\n",
    "print_match('Este es un ejercicio de @nlp23')"
   ]
  },
  {
   "cell_type": "code",
   "execution_count": 21,
   "id": "e827ebee",
   "metadata": {},
   "outputs": [
    {
     "name": "stdout",
     "output_type": "stream",
     "text": [
      "l o w </w>: 5 l o w e r </w>: 2  n e w e s t </w>:6  w i d e s t </w>: 3}\n"
     ]
    }
   ],
   "source": [
    "prog=re.compile(r'(?<!\\S)')\n",
    "print_match('l o w </w>: 5 l o w e r </w>: 2  n e w e s t </w>:6  w i d e s t </w>: 3}')    "
   ]
  },
  {
   "cell_type": "code",
   "execution_count": 22,
   "id": "9e41df2f",
   "metadata": {},
   "outputs": [
    {
     "data": {
      "text/plain": [
       "''"
      ]
     },
     "execution_count": 22,
     "metadata": {},
     "output_type": "execute_result"
    }
   ],
   "source": [
    "m = re.search('(?!colombia)', 'colombia grande')\n",
    "m.group(0)"
   ]
  },
  {
   "cell_type": "code",
   "execution_count": null,
   "id": "993d88a3",
   "metadata": {},
   "outputs": [],
   "source": []
  }
 ],
 "metadata": {
  "kernelspec": {
   "display_name": "python3.8",
   "language": "python",
   "name": "python3.8"
  },
  "language_info": {
   "codemirror_mode": {
    "name": "ipython",
    "version": 3
   },
   "file_extension": ".py",
   "mimetype": "text/x-python",
   "name": "python",
   "nbconvert_exporter": "python",
   "pygments_lexer": "ipython3",
   "version": "3.8.11"
  },
  "varInspector": {
   "cols": {
    "lenName": 16,
    "lenType": 16,
    "lenVar": 40
   },
   "kernels_config": {
    "python": {
     "delete_cmd_postfix": "",
     "delete_cmd_prefix": "del ",
     "library": "var_list.py",
     "varRefreshCmd": "print(var_dic_list())"
    },
    "r": {
     "delete_cmd_postfix": ") ",
     "delete_cmd_prefix": "rm(",
     "library": "var_list.r",
     "varRefreshCmd": "cat(var_dic_list()) "
    }
   },
   "types_to_exclude": [
    "module",
    "function",
    "builtin_function_or_method",
    "instance",
    "_Feature"
   ],
   "window_display": false
  }
 },
 "nbformat": 4,
 "nbformat_minor": 5
}
